{
  "nbformat": 4,
  "nbformat_minor": 0,
  "metadata": {
    "colab": {
      "provenance": [],
      "authorship_tag": "ABX9TyOXd2Wr2iqssgW4xZ4/F8+L",
      "include_colab_link": true
    },
    "kernelspec": {
      "name": "python3",
      "display_name": "Python 3"
    },
    "language_info": {
      "name": "python"
    }
  },
  "cells": [
    {
      "cell_type": "markdown",
      "metadata": {
        "id": "view-in-github",
        "colab_type": "text"
      },
      "source": [
        "<a href=\"https://colab.research.google.com/github/cardosoVg/SimilaridadeCosseno/blob/main/SimilaridadeCosseno.ipynb\" target=\"_parent\"><img src=\"https://colab.research.google.com/assets/colab-badge.svg\" alt=\"Open In Colab\"/></a>"
      ]
    },
    {
      "cell_type": "code",
      "execution_count": null,
      "metadata": {
        "id": "mOjD69EgsQSz"
      },
      "outputs": [],
      "source": [
        "import pandas as pd\n",
        "import numpy as np\n",
        "from sklearn.feature_extraction.text import CountVectorizer\n",
        "from sklearn.metrics.pairwise import cosine_similarity\n",
        "import nltk\n",
        "from nltk.corpus import stopwords\n",
        "nltk.download('stopwords')"
      ]
    },
    {
      "cell_type": "code",
      "source": [
        "df = pd.read_csv(\"/content/all_games.csv\")\n"
      ],
      "metadata": {
        "id": "zmy3yIxWVc2a"
      },
      "execution_count": 22,
      "outputs": []
    },
    {
      "cell_type": "code",
      "source": [
        "df = pd.read_csv(\"/content/all_games.csv\")\n",
        "\n",
        "example_name = df[\"name\"].tolist()\n",
        "example_descrition = df[\"summary\"].tolist()\n",
        "example_platform = df[\"platform\"].tolist()\n",
        "example_score = df[\"meta_score\"].tolist()\n",
        "example_review = df[\"user_review\"].tolist()\n"
      ],
      "metadata": {
        "id": "yC7S6TajtFV9"
      },
      "execution_count": 28,
      "outputs": []
    },
    {
      "cell_type": "code",
      "source": [
        "stop_words = set(stopwords.words(\"english\"))"
      ],
      "metadata": {
        "id": "P0PhWm_LsY4l"
      },
      "execution_count": 29,
      "outputs": []
    },
    {
      "cell_type": "code",
      "source": [
        "vectorizer = CountVectorizer()\n",
        "vectors_count = vectorizer.fit_transform(df['summary'].values.astype('U'))"
      ],
      "metadata": {
        "id": "WsAfAE7jwJJZ"
      },
      "execution_count": 30,
      "outputs": []
    },
    {
      "cell_type": "code",
      "source": [
        "user = input(\"Digite qual o jogo que você procura similares:\\n\")\n",
        "vector = vectorizer.transform([user])"
      ],
      "metadata": {
        "id": "7_fCN4exsfCd"
      },
      "execution_count": null,
      "outputs": []
    },
    {
      "cell_type": "code",
      "source": [
        "similarity = cosine_similarity(vector , vectors_count)\n",
        "top_similares = similarity[0].argsort()[::-1][:5]"
      ],
      "metadata": {
        "id": "DHi7iCjJsgq2"
      },
      "execution_count": 36,
      "outputs": []
    },
    {
      "cell_type": "code",
      "source": [
        "print(\"\\nOs cincos games mais similares são\")\n",
        "for i , indice in enumerate(top_similares):\n",
        "      print(f\"\\nGame:{example_name[indice]}\")\n",
        "      print(f\"\\nDescrição:{example_descrition[indice]}\")\n",
        "      print(f\"\\nPlataforma:{example_platform[indice]}\")\n",
        "      print(f\"\\nPontuação:{example_score[indice]}\")\n",
        "      print(f\"\\nAvaliação:{example_review[indice]}\")\n",
        "      angulo_cos = np.arccos(similarity[0][indice])\n",
        "      angulo_graus = np.degrees(angulo_cos)\n",
        "      print(f\"\\nAngulo do Cosseno(em graus):{angulo_graus:.2f} graus\\n\")"
      ],
      "metadata": {
        "id": "I0VCv7hosi6P"
      },
      "execution_count": null,
      "outputs": []
    }
  ]
}